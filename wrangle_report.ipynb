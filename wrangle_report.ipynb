{
 "cells": [
  {
   "cell_type": "markdown",
   "metadata": {},
   "source": [
    "## Reporting: wrangle_report\n",
    "* Create a **300-600 word written report** called \"wrangle_report.pdf\" or \"wrangle_report.html\" that briefly describes your wrangling efforts. This is to be framed as an internal document."
   ]
  },
  {
   "cell_type": "markdown",
   "metadata": {},
   "source": [
    "##### The following were the steps applied within the wrangling process\n",
    "\n",
    "> 1. Gathering of the data\n",
    "> 2. Cleaning of the data\n",
    "> 3. Analysis of the data\n",
    "> 4. Reporting on the data"
   ]
  },
  {
   "cell_type": "markdown",
   "metadata": {},
   "source": [
    "#### Gathering process\n",
    "\n",
    "> The data was gathered from multiple sources:\n",
    "\n",
    "> 1. Mined twitter data using the tweepy library\n",
    "> 2. Obtaining the image data through a given URL\n",
    "> 3. Reading data from `.csv` files"
   ]
  },
  {
   "cell_type": "markdown",
   "metadata": {},
   "source": [
    "### Within the cleaning process the following issues were identified\n",
    "\n",
    "Quality Issues\n",
    "> 1. Not all `rating_numeritor` values are less than 10 given majority of the rating is out of 10\n",
    "> 2. Not all `rating_denominator` values are equal than 10 given majority of the rating is out of 10\n",
    "> 3. Under the name column the value `a` isn't a name yet it appears 55 times (`None` can be used in place)\n",
    "> 4. Multiple columns are missing data within majority of their rows within the twitter archive dataset\n",
    "> 5. Unecessary retweets rows\n",
    "> 6. Unecessary \"in reply to users' tweet\" rows\n",
    "> 7. Wrong Data types of \"timestamp\", \"tweet_id\"\n",
    "> 8. The `tweet_id`, `source`, `in_reply_to_status_id` and `in_reply_to_user_id` columns are duplicated in all the tables\n",
    "> 9. A large number of the predictions contain erronious entries in the image prediction dataset\n",
    "\n",
    "Tidiness Issues\n",
    "> 1. The `doggo`, `floofer`, `pupper` an `puppo` columns can be represented in a single column known as stage (i.e. stages of dog).\n",
    "> 2. The `retweet count` and `favorite count` columns are not in the twitter archive dataset where they would ideally fit into\n"
   ]
  },
  {
   "cell_type": "markdown",
   "metadata": {},
   "source": [
    "#### Process\n",
    "\n",
    "The process taken to handle the wrangling was as follows:\n",
    "> 1. Once the data was gathered , it was assessed visually and programatically using various techniques that looked into each table, column and row to try identify the issues stated above.\n",
    "> 2. The `Define-Code-Test` framework was then applied to the issues to try solve them\n",
    "> 3. The final clean data was then saved as a copy to keep using for the next process i.e the analysis\n",
    "> 4. The analysis stage handled to looking at the data in detail and gathering insights from it that would seem relevant"
   ]
  },
  {
   "cell_type": "markdown",
   "metadata": {},
   "source": [
    "#### A number of insights such as:\n",
    "##### Research question: What dog stage got the most favorite counts?\n",
    "> This highlighted the dog stage that recieved the most favorite counts to try identify what stage the population rating tends to prefer.\n",
    "#### Research Question: What dog stage got the most retweet counts?\n",
    "> This highlighted the dog stage that recieved the most retweet counts to try identify what stage the population rating tends to prefer.\n",
    "#### Research Question: What are the top 5 favorite tweets?\n",
    "> This highlighted the top tweets that had the most favorite counts\n",
    "#### Research Question: What are the top 5 retweet tweets?\n",
    "> This highlighted the top tweets that had the most retweet counts\n",
    "#### Research Question: What is the common dog stage?\n",
    "> This highlighted the most common dog stage based on the number of tweets accounted to the stage"
   ]
  },
  {
   "cell_type": "markdown",
   "metadata": {},
   "source": []
  }
 ],
 "metadata": {
  "kernelspec": {
   "display_name": "Python 3",
   "language": "python",
   "name": "python3"
  },
  "language_info": {
   "codemirror_mode": {
    "name": "ipython",
    "version": 3
   },
   "file_extension": ".py",
   "mimetype": "text/x-python",
   "name": "python",
   "nbconvert_exporter": "python",
   "pygments_lexer": "ipython3",
   "version": "3.8.8"
  }
 },
 "nbformat": 4,
 "nbformat_minor": 2
}
